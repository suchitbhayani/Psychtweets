{
 "cells": [
  {
   "cell_type": "code",
   "execution_count": 1,
   "id": "d4fb85b6-0243-4a65-bb5b-8b9630c05aa8",
   "metadata": {},
   "outputs": [],
   "source": [
    "import pandas as pd\n",
    "import numpy as np\n",
    "import re\n",
    "import emoji"
   ]
  },
  {
   "cell_type": "markdown",
   "id": "3d2efa22-e97b-41cd-8f1f-24477e4cdf67",
   "metadata": {},
   "source": [
    "# Cleaning Data"
   ]
  },
  {
   "cell_type": "code",
   "execution_count": 2,
   "id": "f9039c95-5bf5-4f0a-b3db-c906babd63ca",
   "metadata": {},
   "outputs": [
    {
     "data": {
      "text/html": [
       "<div>\n",
       "<style scoped>\n",
       "    .dataframe tbody tr th:only-of-type {\n",
       "        vertical-align: middle;\n",
       "    }\n",
       "\n",
       "    .dataframe tbody tr th {\n",
       "        vertical-align: top;\n",
       "    }\n",
       "\n",
       "    .dataframe thead th {\n",
       "        text-align: right;\n",
       "    }\n",
       "</style>\n",
       "<table border=\"1\" class=\"dataframe\">\n",
       "  <thead>\n",
       "    <tr style=\"text-align: right;\">\n",
       "      <th></th>\n",
       "      <th>text</th>\n",
       "      <th>label</th>\n",
       "    </tr>\n",
       "  </thead>\n",
       "  <tbody>\n",
       "    <tr>\n",
       "      <th>0</th>\n",
       "      <td>@Pericles216 @HierBeforeTheAC @Sachinettiyil T...</td>\n",
       "      <td>intj</td>\n",
       "    </tr>\n",
       "    <tr>\n",
       "      <th>1</th>\n",
       "      <td>@Hispanthicckk Being you makes you look cute||...</td>\n",
       "      <td>intj</td>\n",
       "    </tr>\n",
       "    <tr>\n",
       "      <th>2</th>\n",
       "      <td>I'm like entp but idiotic|||Hey boy, do you wa...</td>\n",
       "      <td>intj</td>\n",
       "    </tr>\n",
       "    <tr>\n",
       "      <th>3</th>\n",
       "      <td>@kaeshurr1 Give it to @ZargarShanif ... He has...</td>\n",
       "      <td>intj</td>\n",
       "    </tr>\n",
       "    <tr>\n",
       "      <th>4</th>\n",
       "      <td>Frances Farmer Will Have Her Revenge On Seattl...</td>\n",
       "      <td>intj</td>\n",
       "    </tr>\n",
       "  </tbody>\n",
       "</table>\n",
       "</div>"
      ],
      "text/plain": [
       "                                                text label\n",
       "0  @Pericles216 @HierBeforeTheAC @Sachinettiyil T...  intj\n",
       "1  @Hispanthicckk Being you makes you look cute||...  intj\n",
       "2  I'm like entp but idiotic|||Hey boy, do you wa...  intj\n",
       "3  @kaeshurr1 Give it to @ZargarShanif ... He has...  intj\n",
       "4  Frances Farmer Will Have Her Revenge On Seattl...  intj"
      ]
     },
     "execution_count": 2,
     "metadata": {},
     "output_type": "execute_result"
    }
   ],
   "source": [
    "data = pd.read_csv('./data/english_only.csv').drop(columns='Unnamed: 0')\n",
    "data.head()"
   ]
  },
  {
   "cell_type": "code",
   "execution_count": 3,
   "id": "267ba956-3d49-44bc-b934-42daa47bd75d",
   "metadata": {},
   "outputs": [],
   "source": [
    "text_before_cleaning = data['text'].iloc[0][:300]"
   ]
  },
  {
   "cell_type": "code",
   "execution_count": 4,
   "id": "2ed44f32-eeb4-4eb5-b5ea-4f04908cacef",
   "metadata": {},
   "outputs": [],
   "source": [
    "def clean_text(tweets):\n",
    "    \n",
    "    # remove characters separating tweets from each other\n",
    "    tweets = tweets.replace('|||', '')\n",
    "\n",
    "    # remove emojis\n",
    "    tweets = emoji.replace_emoji(tweets, replace='')\n",
    "    \n",
    "    # remove links \n",
    "    tweets = re.sub(r'http\\S+|www\\S+|https\\S+', '', tweets, flags=re.MULTILINE)\n",
    "    \n",
    "    # make lowercase\n",
    "    tweets = tweets.lower()\n",
    "\n",
    "    # remove twitter handles\n",
    "    tweets = re.sub(r'@\\w+', '', tweets)\n",
    "\n",
    "    # remove extra whitespace\n",
    "    tweets = re.sub(r'\\s+', ' ', tweets).strip()\n",
    "    \n",
    "    return tweets"
   ]
  },
  {
   "cell_type": "code",
   "execution_count": 5,
   "id": "a13972cf-0b91-440b-9f67-797432ef9e41",
   "metadata": {},
   "outputs": [],
   "source": [
    "text_after_cleaning = clean_text(text_before_cleaning)"
   ]
  },
  {
   "cell_type": "code",
   "execution_count": 6,
   "id": "c7ff3b2f-6e28-4de0-ad51-501aa6a3767b",
   "metadata": {},
   "outputs": [
    {
     "name": "stdout",
     "output_type": "stream",
     "text": [
      "Text before cleaning:\n",
      "@Pericles216 @HierBeforeTheAC @Sachinettiyil The Pope is infallible, this is a catholic dogma \n",
      "\n",
      "It doesn’t mean the… https://t.co/qmt0ezk0Ey|||@HierBeforeTheAC @Pericles216 @Sachinettiyil And by perpetually it entails that the church herself can elect new po… https://t.co/OGTxKfUDHQ|||@HierBeforeThe\n",
      "\n",
      "\n",
      "\n",
      "Text after cleaning:\n",
      "the pope is infallible, this is a catholic dogma it doesn’t mean the… and by perpetually it entails that the church herself can elect new po…\n"
     ]
    }
   ],
   "source": [
    "print(f'Text before cleaning:\\n{text_before_cleaning}')\n",
    "print('\\n\\n')\n",
    "print(f'Text after cleaning:\\n{text_after_cleaning}')"
   ]
  },
  {
   "cell_type": "code",
   "execution_count": 7,
   "id": "1aa970e0-cbea-4dbd-9fc8-5ea3758f8649",
   "metadata": {},
   "outputs": [
    {
     "data": {
      "text/html": [
       "<div>\n",
       "<style scoped>\n",
       "    .dataframe tbody tr th:only-of-type {\n",
       "        vertical-align: middle;\n",
       "    }\n",
       "\n",
       "    .dataframe tbody tr th {\n",
       "        vertical-align: top;\n",
       "    }\n",
       "\n",
       "    .dataframe thead th {\n",
       "        text-align: right;\n",
       "    }\n",
       "</style>\n",
       "<table border=\"1\" class=\"dataframe\">\n",
       "  <thead>\n",
       "    <tr style=\"text-align: right;\">\n",
       "      <th></th>\n",
       "      <th>text</th>\n",
       "      <th>label</th>\n",
       "      <th>cleaned text</th>\n",
       "    </tr>\n",
       "  </thead>\n",
       "  <tbody>\n",
       "    <tr>\n",
       "      <th>0</th>\n",
       "      <td>@Pericles216 @HierBeforeTheAC @Sachinettiyil T...</td>\n",
       "      <td>intj</td>\n",
       "      <td>the pope is infallible, this is a catholic dog...</td>\n",
       "    </tr>\n",
       "    <tr>\n",
       "      <th>1</th>\n",
       "      <td>@Hispanthicckk Being you makes you look cute||...</td>\n",
       "      <td>intj</td>\n",
       "      <td>being you makes you look cute on, because then...</td>\n",
       "    </tr>\n",
       "    <tr>\n",
       "      <th>2</th>\n",
       "      <td>I'm like entp but idiotic|||Hey boy, do you wa...</td>\n",
       "      <td>intj</td>\n",
       "      <td>i'm like entp but idiotichey boy, do you want ...</td>\n",
       "    </tr>\n",
       "    <tr>\n",
       "      <th>3</th>\n",
       "      <td>@kaeshurr1 Give it to @ZargarShanif ... He has...</td>\n",
       "      <td>intj</td>\n",
       "      <td>give it to ... he has pica since childhood say...</td>\n",
       "    </tr>\n",
       "    <tr>\n",
       "      <th>4</th>\n",
       "      <td>Frances Farmer Will Have Her Revenge On Seattl...</td>\n",
       "      <td>intj</td>\n",
       "      <td>frances farmer will have her revenge on seattl...</td>\n",
       "    </tr>\n",
       "  </tbody>\n",
       "</table>\n",
       "</div>"
      ],
      "text/plain": [
       "                                                text label  \\\n",
       "0  @Pericles216 @HierBeforeTheAC @Sachinettiyil T...  intj   \n",
       "1  @Hispanthicckk Being you makes you look cute||...  intj   \n",
       "2  I'm like entp but idiotic|||Hey boy, do you wa...  intj   \n",
       "3  @kaeshurr1 Give it to @ZargarShanif ... He has...  intj   \n",
       "4  Frances Farmer Will Have Her Revenge On Seattl...  intj   \n",
       "\n",
       "                                        cleaned text  \n",
       "0  the pope is infallible, this is a catholic dog...  \n",
       "1  being you makes you look cute on, because then...  \n",
       "2  i'm like entp but idiotichey boy, do you want ...  \n",
       "3  give it to ... he has pica since childhood say...  \n",
       "4  frances farmer will have her revenge on seattl...  "
      ]
     },
     "execution_count": 7,
     "metadata": {},
     "output_type": "execute_result"
    }
   ],
   "source": [
    "data['cleaned text'] = data['text'].apply(clean_text)\n",
    "data.head()"
   ]
  },
  {
   "cell_type": "code",
   "execution_count": 8,
   "id": "d5b7c026-2826-414d-912f-939528121e16",
   "metadata": {},
   "outputs": [
    {
     "data": {
      "text/html": [
       "<div>\n",
       "<style scoped>\n",
       "    .dataframe tbody tr th:only-of-type {\n",
       "        vertical-align: middle;\n",
       "    }\n",
       "\n",
       "    .dataframe tbody tr th {\n",
       "        vertical-align: top;\n",
       "    }\n",
       "\n",
       "    .dataframe thead th {\n",
       "        text-align: right;\n",
       "    }\n",
       "</style>\n",
       "<table border=\"1\" class=\"dataframe\">\n",
       "  <thead>\n",
       "    <tr style=\"text-align: right;\">\n",
       "      <th></th>\n",
       "      <th>cleaned text</th>\n",
       "      <th>label</th>\n",
       "    </tr>\n",
       "  </thead>\n",
       "  <tbody>\n",
       "    <tr>\n",
       "      <th>0</th>\n",
       "      <td>the pope is infallible, this is a catholic dog...</td>\n",
       "      <td>intj</td>\n",
       "    </tr>\n",
       "    <tr>\n",
       "      <th>1</th>\n",
       "      <td>being you makes you look cute on, because then...</td>\n",
       "      <td>intj</td>\n",
       "    </tr>\n",
       "    <tr>\n",
       "      <th>2</th>\n",
       "      <td>i'm like entp but idiotichey boy, do you want ...</td>\n",
       "      <td>intj</td>\n",
       "    </tr>\n",
       "    <tr>\n",
       "      <th>3</th>\n",
       "      <td>give it to ... he has pica since childhood say...</td>\n",
       "      <td>intj</td>\n",
       "    </tr>\n",
       "    <tr>\n",
       "      <th>4</th>\n",
       "      <td>frances farmer will have her revenge on seattl...</td>\n",
       "      <td>intj</td>\n",
       "    </tr>\n",
       "  </tbody>\n",
       "</table>\n",
       "</div>"
      ],
      "text/plain": [
       "                                        cleaned text label\n",
       "0  the pope is infallible, this is a catholic dog...  intj\n",
       "1  being you makes you look cute on, because then...  intj\n",
       "2  i'm like entp but idiotichey boy, do you want ...  intj\n",
       "3  give it to ... he has pica since childhood say...  intj\n",
       "4  frances farmer will have her revenge on seattl...  intj"
      ]
     },
     "execution_count": 8,
     "metadata": {},
     "output_type": "execute_result"
    }
   ],
   "source": [
    "data_cleaned = data.get(['cleaned text', 'label'])\n",
    "data_cleaned.head()"
   ]
  },
  {
   "cell_type": "code",
   "execution_count": 9,
   "id": "333762d2-5fe3-44dc-b1c9-1576d2c42b77",
   "metadata": {},
   "outputs": [],
   "source": [
    "data_cleaned.to_csv('./data/cleaned.csv')"
   ]
  },
  {
   "cell_type": "code",
   "execution_count": null,
   "id": "cd0daa0e-2d0a-494b-9a1f-607f0a4dc632",
   "metadata": {},
   "outputs": [],
   "source": []
  }
 ],
 "metadata": {
  "kernelspec": {
   "display_name": "Python 3 (ipykernel)",
   "language": "python",
   "name": "python3"
  },
  "language_info": {
   "codemirror_mode": {
    "name": "ipython",
    "version": 3
   },
   "file_extension": ".py",
   "mimetype": "text/x-python",
   "name": "python",
   "nbconvert_exporter": "python",
   "pygments_lexer": "ipython3",
   "version": "3.11.7"
  }
 },
 "nbformat": 4,
 "nbformat_minor": 5
}
