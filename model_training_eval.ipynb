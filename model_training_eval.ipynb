{
  "cells": [
    {
      "cell_type": "code",
      "execution_count": 1,
      "id": "6fcad68e-b540-4024-b77a-9c78fb6134ca",
      "metadata": {
        "id": "6fcad68e-b540-4024-b77a-9c78fb6134ca"
      },
      "outputs": [],
      "source": [
        "import pandas as pd\n",
        "from sklearn.preprocessing import LabelEncoder\n",
        "from sklearn.model_selection import train_test_split\n",
        "from transformers import BertTokenizerFast, BertModel, get_scheduler\n",
        "import torch\n",
        "from torch.utils.data import Dataset, DataLoader\n",
        "from torch import nn\n",
        "from torch.optim import AdamW"
      ]
    },
    {
      "cell_type": "code",
      "source": [
        "from google.colab import files\n",
        "uploaded = files.upload()"
      ],
      "metadata": {
        "id": "SKpX_dz_R7kc"
      },
      "id": "SKpX_dz_R7kc",
      "execution_count": null,
      "outputs": []
    },
    {
      "cell_type": "markdown",
      "id": "54dc774e-656b-4f9d-a7aa-6d3cb8810e9a",
      "metadata": {
        "id": "54dc774e-656b-4f9d-a7aa-6d3cb8810e9a"
      },
      "source": [
        "# Further Preprocessing"
      ]
    },
    {
      "cell_type": "code",
      "execution_count": null,
      "id": "dfc90bdb-0f34-4818-95f8-09eb512856f5",
      "metadata": {
        "id": "dfc90bdb-0f34-4818-95f8-09eb512856f5"
      },
      "outputs": [],
      "source": [
        "data = pd.read_csv('/content/cleaned.csv').drop(columns=['Unnamed: 0'])\n",
        "data"
      ]
    },
    {
      "cell_type": "code",
      "execution_count": null,
      "id": "bf4e5668-cf5b-46d0-a9ff-34ba0bd7306f",
      "metadata": {
        "id": "bf4e5668-cf5b-46d0-a9ff-34ba0bd7306f"
      },
      "outputs": [],
      "source": [
        "le = LabelEncoder()\n",
        "data['label'] = le.fit_transform(data['label'])\n",
        "data"
      ]
    },
    {
      "cell_type": "code",
      "execution_count": null,
      "id": "304ef2f6-2308-4ce1-9b10-38996da7aa70",
      "metadata": {
        "id": "304ef2f6-2308-4ce1-9b10-38996da7aa70"
      },
      "outputs": [],
      "source": [
        "train_text, test_text, train_labels, test_labels = train_test_split(data['cleaned text'].tolist(), data['label'].tolist(), test_size=0.2, random_state=5)"
      ]
    },
    {
      "cell_type": "code",
      "execution_count": null,
      "id": "4d7fe96a-cc5d-4758-b1e9-e8825b34bc05",
      "metadata": {
        "id": "4d7fe96a-cc5d-4758-b1e9-e8825b34bc05"
      },
      "outputs": [],
      "source": [
        "tokenizer = BertTokenizerFast.from_pretrained('bert-base-uncased')\n",
        "train_encodings = tokenizer(text=train_text, truncation=True, padding=True)\n",
        "test_encodings = tokenizer(text=test_text, truncation=True, padding=True)"
      ]
    },
    {
      "cell_type": "markdown",
      "id": "a8be9c37-46c6-4311-81a1-d434329ea19a",
      "metadata": {
        "id": "a8be9c37-46c6-4311-81a1-d434329ea19a"
      },
      "source": [
        "# Dataset Class\n",
        "\n",
        "https://pytorch.org/tutorials/beginner/basics/data_tutorial.html"
      ]
    },
    {
      "cell_type": "code",
      "execution_count": null,
      "id": "f151e7a3-452e-4dcc-8748-bde70ac117fc",
      "metadata": {
        "id": "f151e7a3-452e-4dcc-8748-bde70ac117fc"
      },
      "outputs": [],
      "source": [
        "class MBTIDataset(Dataset):\n",
        "    def __init__(self, encodings, labels):\n",
        "        self.encodings = encodings\n",
        "        self.labels = labels\n",
        "\n",
        "    def __len__(self):\n",
        "        return len(self.labels)\n",
        "\n",
        "    # returns a sample from dataset based on given idx\n",
        "    def __getitem__(self, idx):\n",
        "        item_dct = {key: torch.tensor(val[idx]) for key, val in self.encodings.items()}\n",
        "        item_dct['labels'] = torch.tensor(self.labels[idx])\n",
        "        return item_dct"
      ]
    },
    {
      "cell_type": "code",
      "execution_count": null,
      "id": "c65d60e1-a2c6-4aea-849a-99ec44c2eaf4",
      "metadata": {
        "id": "c65d60e1-a2c6-4aea-849a-99ec44c2eaf4"
      },
      "outputs": [],
      "source": [
        "train_data = MBTIDataset(train_encodings, train_labels)\n",
        "test_data = MBTIDataset(test_encodings, test_labels)"
      ]
    },
    {
      "cell_type": "code",
      "execution_count": null,
      "id": "f4070d35-3af1-4fd5-8fbd-aa295514b376",
      "metadata": {
        "id": "f4070d35-3af1-4fd5-8fbd-aa295514b376"
      },
      "outputs": [],
      "source": [
        "train_data[0]"
      ]
    },
    {
      "cell_type": "markdown",
      "id": "d7da9537-3dd1-4227-9dc5-65e59ffb4bb3",
      "metadata": {
        "id": "d7da9537-3dd1-4227-9dc5-65e59ffb4bb3"
      },
      "source": [
        "# Building the Neural Network\n",
        "\n",
        "https://pytorch.org/tutorials/beginner/basics/buildmodel_tutorial.html"
      ]
    },
    {
      "cell_type": "code",
      "execution_count": null,
      "id": "98501fee-0aff-44c3-9970-ce50417d09ff",
      "metadata": {
        "id": "98501fee-0aff-44c3-9970-ce50417d09ff"
      },
      "outputs": [],
      "source": [
        "class MBTIPredictor(nn.Module):\n",
        "    def __init__(self):\n",
        "        super(MBTIPredictor, self).__init__()\n",
        "        self.bert = BertModel.from_pretrained('bert-base-uncased')\n",
        "        self.linear_relu_stack = nn.Sequential(\n",
        "            nn.Linear(768, hidden_layer_size),\n",
        "            nn.ReLU(),\n",
        "            nn.Linear(hidden_layer_size, 16)\n",
        "        )\n",
        "\n",
        "    def forward(self, input_ids, attention_mask):\n",
        "        outputs = self.bert(input_ids=input_ids, attention_mask=attention_mask)\n",
        "        logits = self.linear_relu_stack(outputs[1])\n",
        "        return logits"
      ]
    },
    {
      "cell_type": "code",
      "execution_count": null,
      "id": "5457962e-ad4e-4d51-b233-abc31a89ac97",
      "metadata": {
        "id": "5457962e-ad4e-4d51-b233-abc31a89ac97"
      },
      "outputs": [],
      "source": [
        "model = MBTIPredictor().to(device)\n",
        "print(model)"
      ]
    },
    {
      "cell_type": "markdown",
      "id": "21ad8898-2f02-40f5-8e0d-98d39bd8232b",
      "metadata": {
        "id": "21ad8898-2f02-40f5-8e0d-98d39bd8232b"
      },
      "source": [
        "# Model Training\n",
        "\n",
        "https://pytorch.org/tutorials/beginner/basics/optimization_tutorial.html"
      ]
    },
    {
      "cell_type": "code",
      "execution_count": null,
      "id": "9e3c0a22-9141-4bfe-9480-15232e89bab5",
      "metadata": {
        "id": "9e3c0a22-9141-4bfe-9480-15232e89bab5"
      },
      "outputs": [],
      "source": [
        "device = (\n",
        "    \"cuda\"\n",
        "    if torch.cuda.is_available()\n",
        "    else \"mps\"\n",
        "    if torch.backends.mps.is_available()\n",
        "    else \"cpu\"\n",
        ")\n",
        "print(f\"Using {device} device\")"
      ]
    },
    {
      "cell_type": "code",
      "execution_count": null,
      "id": "bed54666-d5eb-4452-a9c3-660bf4c41323",
      "metadata": {
        "id": "bed54666-d5eb-4452-a9c3-660bf4c41323"
      },
      "outputs": [],
      "source": [
        "learning_rate = 5e-5\n",
        "loss_fn = nn.CrossEntropyLoss()\n",
        "optimizer = AdamW(model.parameters(), lr=learning_rate)\n",
        "batch_size = 16\n",
        "epochs = 3\n",
        "\n",
        "num_training_steps = epochs * len(train_batches)\n",
        "lr_scheduler = get_scheduler(\n",
        "    name=\"cosine\", optimizer=optimizer, num_warmup_steps=0, num_training_steps=num_training_steps\n",
        ")"
      ]
    },
    {
      "cell_type": "code",
      "execution_count": null,
      "id": "3e3f1dea-9ed3-4160-bb47-36855892b8c1",
      "metadata": {
        "id": "3e3f1dea-9ed3-4160-bb47-36855892b8c1"
      },
      "outputs": [],
      "source": [
        "def train_loop(dataloader, model, loss_fn, optimizer, device):\n",
        "    size = len(dataloader.dataset)\n",
        "    model.train()\n",
        "    for batch, batch_data in enumerate(dataloader):\n",
        "        input_ids = batch_data['input_ids'].to(device)\n",
        "        attention_mask = batch_data['attention_mask'].to(device)\n",
        "        labels = batch_data['labels'].to(device)\n",
        "\n",
        "        # Compute prediction and loss\n",
        "        pred = model(input_ids, attention_mask)\n",
        "        loss = loss_fn(pred, labels)\n",
        "\n",
        "        # Backpropagation\n",
        "        loss.backward()\n",
        "        optimizer.step()\n",
        "        optimizer.zero_grad()\n",
        "\n",
        "        lr_scheduler.step()\n",
        "\n",
        "        if batch % 50 == 0:\n",
        "            loss_value = loss.item()\n",
        "            current = batch * len(input_ids)\n",
        "            print(f\"loss: {loss_value:>7f}  [{current:>5d}/{size:>5d}]\")"
      ]
    },
    {
      "cell_type": "code",
      "execution_count": null,
      "id": "3d67defa-8648-4f1a-a62d-c163a4bfc00e",
      "metadata": {
        "id": "3d67defa-8648-4f1a-a62d-c163a4bfc00e"
      },
      "outputs": [],
      "source": [
        "train_loader = DataLoader(train_data, batch_size=batch_size, shuffle=True)\n",
        "test_loader = DataLoader(test_data, batch_size=batch_size, shuffle=False)\n",
        "\n",
        "model = MBTIPredictor().to(device)\n",
        "\n",
        "# Training loop\n",
        "epochs = 3\n",
        "for epoch in range(epochs):\n",
        "    print(f\"Epoch {epoch+1}\\n-------------------------------\")\n",
        "    train_loop(train_loader, model, loss_fn, optimizer, device)\n",
        "\n",
        "print(\"Training complete!\")"
      ]
    },
    {
      "cell_type": "code",
      "execution_count": null,
      "id": "78d08482-add9-4cfb-b756-b327c5d17ad5",
      "metadata": {
        "id": "78d08482-add9-4cfb-b756-b327c5d17ad5"
      },
      "outputs": [],
      "source": [
        "def find_accuracy(model, dataloader):\n",
        "    model.eval()\n",
        "    correct = 0\n",
        "    total = 0\n",
        "\n",
        "    with torch.no_grad():\n",
        "        for batch_data in dataloader:\n",
        "            input_ids = batch_data['input_ids'].to(device)\n",
        "            attention_mask = batch_data['attention_mask'].to(device)\n",
        "            labels = batch_data['labels'].to(device)\n",
        "\n",
        "            model_output = model(input_ids, attention_mask)\n",
        "\n",
        "            _, predicted = torch.max(model_output.data, 1)\n",
        "            total += labels.size(0)\n",
        "            correct += (predicted == labels).sum().item()\n",
        "\n",
        "    accuracy = 100 * correct / total\n",
        "    return accuracy"
      ]
    },
    {
      "cell_type": "code",
      "source": [
        "find_accuracy(model, test_loader)"
      ],
      "metadata": {
        "id": "Hw7BDrmQKBo3"
      },
      "id": "Hw7BDrmQKBo3",
      "execution_count": null,
      "outputs": []
    },
    {
      "cell_type": "code",
      "source": [],
      "metadata": {
        "id": "RLvBd2fbREgN"
      },
      "id": "RLvBd2fbREgN",
      "execution_count": null,
      "outputs": []
    }
  ],
  "metadata": {
    "kernelspec": {
      "display_name": "Python 3",
      "name": "python3"
    },
    "language_info": {
      "codemirror_mode": {
        "name": "ipython",
        "version": 3
      },
      "file_extension": ".py",
      "mimetype": "text/x-python",
      "name": "python",
      "nbconvert_exporter": "python",
      "pygments_lexer": "ipython3",
      "version": "3.11.7"
    },
    "colab": {
      "provenance": [],
      "gpuType": "T4"
    },
    "accelerator": "GPU"
  },
  "nbformat": 4,
  "nbformat_minor": 5
}